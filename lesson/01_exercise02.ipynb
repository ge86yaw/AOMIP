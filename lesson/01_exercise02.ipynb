{
 "cells": [
  {
   "cell_type": "code",
   "execution_count": 2,
   "id": "a25e12ea",
   "metadata": {},
   "outputs": [],
   "source": [
    "import matplotlib.pyplot as plt\n",
    "import numpy as np\n",
    "import aomip"
   ]
  },
  {
   "cell_type": "markdown",
   "id": "b38d2f9d",
   "metadata": {},
   "source": [
    "## Backprojection\n",
    "\n",
    "Here, we will explore the backprojection. The goal of this exercise is to explore the adjoint operations of the forward projection.\n",
    "\n",
    "First, instead of using the `radon` function now directly, create the `XrayTransform` yourself (the interface,\n",
    "is pretty similar to the `radon` function one ;-))\n",
    "\n",
    "Next, create a phantom and forward project it to get the sinogram. Now apply the adjoint of the X-ray Transform and look at the result. What do you see?\n",
    "\n",
    "Try it for different number of positions in the trajectory and different phantoms."
   ]
  },
  {
   "cell_type": "code",
   "execution_count": null,
   "id": "f00ff660",
   "metadata": {},
   "outputs": [],
   "source": []
  },
  {
   "cell_type": "markdown",
   "id": "70bb221f",
   "metadata": {},
   "source": [
    "## Reconstruction\n",
    "\n",
    "Can you think of an algorithm to solve the problem, i.e. get as close to the original phantom as possible? Discuss with your neighbours and play around wiht possible solutions a bit!"
   ]
  },
  {
   "cell_type": "code",
   "execution_count": null,
   "id": "647d951a",
   "metadata": {},
   "outputs": [],
   "source": []
  }
 ],
 "metadata": {
  "kernelspec": {
   "display_name": "Python 3 (ipykernel)",
   "language": "python",
   "name": "python3"
  },
  "language_info": {
   "codemirror_mode": {
    "name": "ipython",
    "version": 3
   },
   "file_extension": ".py",
   "mimetype": "text/x-python",
   "name": "python",
   "nbconvert_exporter": "python",
   "pygments_lexer": "ipython3",
   "version": "3.10.10"
  }
 },
 "nbformat": 4,
 "nbformat_minor": 5
}
