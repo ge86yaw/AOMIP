{
 "cells": [
  {
   "cell_type": "code",
   "execution_count": null,
   "id": "296e1c22",
   "metadata": {},
   "outputs": [],
   "source": [
    "import aomip\n",
    "import numpy as np\n",
    "import matplotlib.pyplot as plt\n",
    "import pyelsa as elsa"
   ]
  },
  {
   "cell_type": "markdown",
   "id": "405db013",
   "metadata": {},
   "source": [
    "## Create phantom with small rectangle in the middle"
   ]
  },
  {
   "cell_type": "markdown",
   "id": "e82bfee8",
   "metadata": {},
   "source": [
    "Create a phantom with a small rectangle in the middle and forward project it with the given code. What output do you expect?"
   ]
  },
  {
   "cell_type": "code",
   "execution_count": null,
   "id": "f9c7ebed",
   "metadata": {
    "scrolled": true
   },
   "outputs": [],
   "source": [
    "size = (128, 128)\n",
    "phantom = np.zeros(size)\n",
    "\n",
    "arc = 360\n",
    "nangles = 420\n",
    "sino = aomip.radon(phantom, [180], np.linspace(0, arc, nangles), 1000, 150)\n",
    "plt.imshow(sino, cmap=\"gray\")"
   ]
  },
  {
   "cell_type": "markdown",
   "id": "8d8b1b44",
   "metadata": {},
   "source": [
    "Now play around with the above `radon` command. Try to find out what the different parameters do, and how they affect the sinogram.\n"
   ]
  },
  {
   "cell_type": "markdown",
   "id": "badb0c92",
   "metadata": {},
   "source": [
    "## More phantoms\n",
    "\n",
    "Create different phantoms and forward projection them. To goal of the exercise is you to start finding patters. Start by guessing the sinogram to a phantom. Try to create specific sinograms. Play around a little bit.\n",
    "\n",
    "Ideas for phantoms:\n",
    "- Change the rectangle with a circle\n",
    "- Move it to a different location\n",
    "- Try adding different shapes in one phantom"
   ]
  },
  {
   "cell_type": "code",
   "execution_count": null,
   "id": "eef0b52f",
   "metadata": {},
   "outputs": [],
   "source": []
  },
  {
   "cell_type": "markdown",
   "id": "c21b7f2e",
   "metadata": {},
   "source": [
    "## 3D phantoms\n",
    "\n",
    "2D phantoms are nice and well, but many interesting things are done in 3D. Hence, create the 3D Shepp-Logan phantom,\n",
    "and forward project it (how long will it take :D)"
   ]
  },
  {
   "cell_type": "code",
   "execution_count": null,
   "id": "91d80406",
   "metadata": {},
   "outputs": [],
   "source": [
    "phantom = aomip.shepp_logan([32, 32, 32])"
   ]
  },
  {
   "cell_type": "markdown",
   "id": "427cea78",
   "metadata": {},
   "source": [
    "C"
   ]
  }
 ],
 "metadata": {
  "kernelspec": {
   "display_name": "Python 3 (ipykernel)",
   "language": "python",
   "name": "python3"
  },
  "language_info": {
   "codemirror_mode": {
    "name": "ipython",
    "version": 3
   },
   "file_extension": ".py",
   "mimetype": "text/x-python",
   "name": "python",
   "nbconvert_exporter": "python",
   "pygments_lexer": "ipython3",
   "version": "3.10.10"
  }
 },
 "nbformat": 4,
 "nbformat_minor": 5
}
