{
 "cells": [
  {
   "attachments": {},
   "cell_type": "markdown",
   "metadata": {},
   "source": [
    "### Notebook\n",
    "\n",
    "* Module: Applied Optimization Methods for Inverse Problems\n",
    "* Author: kaanguney.keklikci@tum.de\n",
    "* Please find all images produced by all scripts in this notebook."
   ]
  },
  {
   "attachments": {},
   "cell_type": "markdown",
   "metadata": {},
   "source": [
    "##### Homework 1: Proximal Optimized Gradient Method\n",
    "\n",
    "* Test for `λ` over `np.logspace(-3, 6, 10)`.\n",
    "* LASSO proximal for POGM is defined as `np.sign(x) * np.maximum(np.abs(x) - lmbd, 0)`.\n",
    "* The proximal shrinks the coefficients towards zero based on the regularization parameter `λ`."
   ]
  },
  {
   "attachments": {},
   "cell_type": "markdown",
   "metadata": {},
   "source": [
    "| ![λ = 0.1](images/notebook/lambda_0.001.png) | ![λ = 1.0](images/notebook/lambda_0.01.png) |\n",
    "|:---:|:---:|\n",
    "| λ = 0.001 | λ = 0.01 |\n",
    "\n",
    "| ![λ = 10.0](images/notebook/lambda_0.1.png) | ![λ = 100.0](images/notebook/lambda_1.0.png) |\n",
    "|:---:|:---:|\n",
    "| λ = 0.1 | λ = 1 |\n",
    "\n",
    "| ![λ = 1000.0](images/notebook/lambda_10.0.png) | ![λ = 10000.0](images/notebook/lambda_100.0.png) |\n",
    "|:---:|:---:|\n",
    "| λ = 10 | λ = 100 |\n",
    "\n",
    "| ![λ = 100000.0](images/notebook/lambda_1000.0.png) | ![λ = 1000000.0](images/notebook/lambda_10000.0.png) |\n",
    "|:---:|:---:|\n",
    "| λ = 1000 | λ = 10000 |\n",
    "\n",
    "| ![λ = 100000.0](images/notebook/lambda_100000.0.png) | ![λ = 1000000.0](images/notebook/lambda_1000000.0.png) |\n",
    "|:---:|:---:|\n",
    "| λ = 100000 | λ = 1000000 |"
   ]
  }
 ],
 "metadata": {
  "kernelspec": {
   "display_name": "base",
   "language": "python",
   "name": "python3"
  },
  "language_info": {
   "codemirror_mode": {
    "name": "ipython",
    "version": 3
   },
   "file_extension": ".py",
   "mimetype": "text/x-python",
   "name": "python",
   "nbconvert_exporter": "python",
   "pygments_lexer": "ipython3",
   "version": "3.10.9"
  },
  "orig_nbformat": 4
 },
 "nbformat": 4,
 "nbformat_minor": 2
}
