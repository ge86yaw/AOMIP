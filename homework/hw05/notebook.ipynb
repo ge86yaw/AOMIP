{
 "cells": [
  {
   "attachments": {},
   "cell_type": "markdown",
   "metadata": {},
   "source": [
    "### Notebook\n",
    "\n",
    "* Module: Applied Optimization Methods for Inverse Problems\n",
    "* Author: kaanguney.keklikci@tum.de\n",
    "* Please find all images produced by all scripts in this notebook."
   ]
  },
  {
   "attachments": {},
   "cell_type": "markdown",
   "metadata": {},
   "source": [
    "##### Homework 1 & 2: Homework 1: Proximal Operators & Proximal Gradient Method"
   ]
  },
  {
   "attachments": {},
   "cell_type": "markdown",
   "metadata": {},
   "source": [
    "* Proximal Operators\n",
    "\n",
    "    * Updated the proximal operator for Elastic net formulation.\n",
    "\n",
    "    * Please find all proximal operators in `operator.py` in the top-level development module `aomip`."
   ]
  },
  {
   "attachments": {},
   "cell_type": "markdown",
   "metadata": {},
   "source": [
    "* FPGM\n",
    "\n",
    "    * Visualizations are generated for a set of `λ` over `np.logspace(-3, 6, 10)`."
   ]
  },
  {
   "attachments": {},
   "cell_type": "markdown",
   "metadata": {},
   "source": [
    "| ![λ = 0.001](images/notebook/fpgm/lambda_0.001.png) | ![λ = 1.0](images/notebook/fpgm/lambda_0.01.png) |\n",
    "|:---:|:---:|\n",
    "| λ = 0.001 | λ = 0.01 |\n",
    "\n",
    "| ![λ = 0.1](images/notebook/fpgm/lambda_0.1.png) | ![λ = 1.0](images/notebook/fpgm/lambda_1.0.png) |\n",
    "|:---:|:---:|\n",
    "| λ = 0.1 | λ = 1.0 |\n",
    "\n",
    "| ![λ = 10.0](images/notebook/fpgm/lambda_10.0.png) | ![λ = 100.0](images/notebook/fpgm/lambda_100.0.png) |\n",
    "|:---:|:---:|\n",
    "| λ = 10 | λ = 100 |\n",
    "\n",
    "| ![λ = 1000.0](images/notebook/fpgm/lambda_1000.0.png) | ![λ = 10000.0](images/notebook/fpgm/lambda_10000.0.png) |\n",
    "|:---:|:---:|\n",
    "| λ = 1000 | λ = 10000 |\n",
    "\n",
    "| ![λ = 100000.0](images/notebook/fpgm/lambda_100000.0.png) | ![λ = 1000000.0](images/notebook/fpgm/lambda_1000000.0.png) |\n",
    "|:---:|:---:|\n",
    "| λ = 100000 | λ = 1000000 |\n"
   ]
  },
  {
   "attachments": {},
   "cell_type": "markdown",
   "metadata": {},
   "source": [
    "* Elastic Net Formulation\n",
    "\n",
    "    * For higher sparsity, preference of l1 regularization over l2 regularization.\n",
    "\n",
    "    * For smoothness and noise reduction, preference over l2 regularization over l1 regularization.\n",
    "\n",
    "    * Visualizations are generated for a set of `λ` over `np.logspace(-3, 6, 10)`."
   ]
  },
  {
   "attachments": {},
   "cell_type": "markdown",
   "metadata": {},
   "source": [
    "| ![λ = 0.001](images/notebook/elastic/lambda_0.001.png) | ![λ = 1.0](images/notebook/elastic/lambda_0.01.png) |\n",
    "|:---:|:---:|\n",
    "| λ = 0.001 | λ = 0.01 |\n",
    "\n",
    "| ![λ = 0.1](images/notebook/elastic/lambda_0.1.png) | ![λ = 1.0](images/notebook/elastic/lambda_1.0.png) |\n",
    "|:---:|:---:|\n",
    "| λ = 0.1 | λ = 1.0 |\n",
    "\n",
    "| ![λ = 10.0](images/notebook/elastic/lambda_10.0.png) | ![λ = 100.0](images/notebook/elastic/lambda_100.0.png) |\n",
    "|:---:|:---:|\n",
    "| λ = 10 | λ = 100 |\n",
    "\n",
    "| ![λ = 1000.0](images/notebook/elastic/lambda_1000.0.png) | ![λ = 10000.0](images/notebook/elastic/lambda_10000.0.png) |\n",
    "|:---:|:---:|\n",
    "| λ = 1000 | λ = 10000 |\n",
    "\n",
    "| ![λ = 100000.0](images/notebook/elastic/lambda_100000.0.png) | ![λ = 1000000.0](images/notebook/elastic/lambda_1000000.0.png) |\n",
    "|:---:|:---:|\n",
    "| λ = 100000 | λ = 1000000 |\n"
   ]
  }
 ],
 "metadata": {
  "kernelspec": {
   "display_name": "base",
   "language": "python",
   "name": "python3"
  },
  "language_info": {
   "name": "python",
   "version": "3.10.9"
  },
  "orig_nbformat": 4
 },
 "nbformat": 4,
 "nbformat_minor": 2
}
