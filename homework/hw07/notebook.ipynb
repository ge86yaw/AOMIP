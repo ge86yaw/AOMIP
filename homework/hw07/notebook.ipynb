{
 "cells": [
  {
   "attachments": {},
   "cell_type": "markdown",
   "metadata": {},
   "source": [
    "### Notebook\n",
    "\n",
    "* Module: Applied Optimization Methods for Inverse Problems\n",
    "* Author: kaanguney.keklikci@tum.de\n",
    "* Please find all images produced by all scripts in this notebook."
   ]
  },
  {
   "attachments": {},
   "cell_type": "markdown",
   "metadata": {},
   "source": [
    "##### Homework 1 & 2: Proximal Operators & ADMM\n",
    "\n",
    "* LASSO\n",
    "\n",
    "    * `λ` = 0.95τ / norm.\n",
    "    * Norm is computed via power iterations. \n",
    "    * Visualizations are generated for a set of `τ` over `np.logspace(-3, 6, 10)`."
   ]
  },
  {
   "attachments": {},
   "cell_type": "markdown",
   "metadata": {},
   "source": [
    "<p float=\"left\">\n",
    "  <img src=\"images/notebook/tau_0.001.png\" width=\"40%\" /> &nbsp;&nbsp;\n",
    "  <img src=\"images/notebook/tau_0.01.png\" width=\"40%\" /> &nbsp;&nbsp;\n",
    "</p>\n",
    "\n",
    "<p float=\"left\">\n",
    "  <img src=\"images/notebook/tau_0.1.png\" width=\"40%\" /> &nbsp;&nbsp;\n",
    "  <img src=\"images/notebook/tau_1.0.png\" width=\"40%\" /> &nbsp;&nbsp;\n",
    "</p>\n",
    "\n",
    "<p float=\"left\">\n",
    "  <img src=\"images/notebook/tau_10.0.png\" width=\"40%\" /> &nbsp;&nbsp;\n",
    "  <img src=\"images/notebook/tau_100.0.png\" width=\"40%\" /> &nbsp;&nbsp;\n",
    "</p>\n",
    "\n",
    "<p float=\"left\">\n",
    "  <img src=\"images/notebook/tau_1000.0.png\" width=\"40%\" /> &nbsp;&nbsp;\n",
    "  <img src=\"images/notebook/tau_10000.0.png\" width=\"40%\" /> &nbsp;&nbsp;\n",
    "</p>\n",
    "\n",
    "<p float=\"left\">\n",
    "  <img src=\"images/notebook/tau_100000.0.png\" width=\"40%\" /> &nbsp;&nbsp;\n",
    "  <img src=\"images/notebook/tau_1000000.0.png\" width=\"40%\" /> &nbsp;&nbsp;\n",
    "</p>"
   ]
  },
  {
   "attachments": {},
   "cell_type": "markdown",
   "metadata": {},
   "source": [
    "<div>\n",
    "\n",
    "  <div style=\"display: flex; flex-wrap: wrap;\">\n",
    "    <div style=\"flex-basis: 40%; padding: 5px;\">\n",
    "      <img src=\"images/notebook/tau_0.001.png\" alt=\"τ = 0.001\" style=\"width: 100%;\">\n",
    "    </div>\n",
    "    <div style=\"flex-basis: 40%; padding: 5px;\">\n",
    "      <img src=\"images/notebook/tau_0.01.png\" alt=\"τ = 0.01\" style=\"width: 100%;\">\n",
    "    </div>\n",
    "  </div>\n",
    "\n",
    "  <div style=\"display: flex; flex-wrap: wrap;\">\n",
    "    <div style=\"flex-basis: 40%; padding: 5px;\">\n",
    "      <img src=\"images/notebook/tau_0.1.png\" alt=\"τ = 0.1\" style=\"width: 100%;\">\n",
    "    </div>\n",
    "    <div style=\"flex-basis: 40%; padding: 5px;\">\n",
    "      <img src=\"images/notebook/tau_1.0.png\" alt=\"τ = 1.0\" style=\"width: 100%;\">\n",
    "    </div>\n",
    "  </div>\n",
    "  \n",
    "  <div style=\"display: flex; flex-wrap: wrap;\">\n",
    "    <div style=\"flex-basis: 40%; padding: 5px;\">\n",
    "      <img src=\"images/notebook/tau_10.0.png\" alt=\"τ = 10.0\" style=\"width: 100%;\">\n",
    "    </div>\n",
    "    <div style=\"flex-basis: 40%; padding: 5px;\">\n",
    "      <img src=\"images/notebook/tau_100.0.png\" alt=\"τ = 100.0\" style=\"width: 100%;\">\n",
    "    </div>\n",
    "  </div>\n",
    "\n",
    "  <div style=\"display: flex; flex-wrap: wrap;\">\n",
    "    <div style=\"flex-basis: 40%; padding: 5px;\">\n",
    "      <img src=\"images/notebook/tau_1000.0.png\" alt=\"τ = 1000.0\" style=\"width: 100%;\">\n",
    "    </div>\n",
    "    <div style=\"flex-basis: 40%; padding: 5px;\">\n",
    "      <img src=\"images/notebook/tau_10000.0.png\" alt=\"τ = 10000.0\" style=\"width: 100%\">\n",
    "    </div>\n",
    "  </div>\n",
    "\n",
    "  <div style=\"display: flex; flex-wrap: wrap;\">\n",
    "    <div style=\"flex-basis: 40%; padding: 5px;\">\n",
    "      <img src=\"images/notebook/tau_100000.0.png\" alt=\"τ = 100000.0\" style=\"width: 100%\">\n",
    "    </div>\n",
    "    <div style=\"flex-basis: 40%; padding: 5px;\">\n",
    "      <img src=\"images/notebook/tau_1000000.0.png\" alt=\"τ = 1000000.0\" style=\"width: 100%\">\n",
    "    </div>\n",
    "  </div>\n",
    "  \n",
    "</div>"
   ]
  },
  {
   "attachments": {},
   "cell_type": "markdown",
   "metadata": {},
   "source": [
    "##### Homework 2 & 3 TV Regularization\n",
    "\n",
    "* Stacked operators.\n",
    "* Implemented relevant proximals.\n",
    "* Below is the default smoothing function provided in the assignment template."
   ]
  },
  {
   "attachments": {},
   "cell_type": "markdown",
   "metadata": {},
   "source": [
    "<img src=\"images/notebook/smooth.png\"/>\n"
   ]
  }
 ],
 "metadata": {
  "language_info": {
   "name": "python"
  },
  "orig_nbformat": 4
 },
 "nbformat": 4,
 "nbformat_minor": 2
}
