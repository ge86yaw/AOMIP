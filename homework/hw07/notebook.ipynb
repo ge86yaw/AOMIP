{
 "cells": [
  {
   "attachments": {},
   "cell_type": "markdown",
   "metadata": {},
   "source": [
    "### Notebook\n",
    "\n",
    "* Module: Applied Optimization Methods for Inverse Problems\n",
    "* Author: kaanguney.keklikci@tum.de\n",
    "* Please find all images produced by all scripts in this notebook."
   ]
  },
  {
   "attachments": {},
   "cell_type": "markdown",
   "metadata": {},
   "source": [
    "##### Homework 1 & 2: Proximal Operators & ADMM\n",
    "\n",
    "* LASSO\n",
    "\n",
    "    * `λ` = 0.95τ / norm.\n",
    "    * Norm is computed via power iterations. \n",
    "    * Visualizations are generated for a set of `τ` over `np.logspace(-3, 6, 10)`."
   ]
  },
  {
   "attachments": {},
   "cell_type": "markdown",
   "metadata": {},
   "source": [
    "<div>\n",
    "  <div style=\"display: flex; flex-wrap: wrap;\">\n",
    "    <div style=\"flex-basis: 40%; padding: 5px;\">\n",
    "      <img src=\"images/notebook/tau_0.001.png\" alt=\"Image 1\" style=\"width: 100%;\">\n",
    "    </div>\n",
    "    <div style=\"flex-basis: 40%; padding: 5px;\">\n",
    "      <img src=\"images/notebook/tau_0.01.png\" alt=\"Image 2\" style=\"width: 100%;\">\n",
    "    </div>\n",
    "    <div style=\"display: flex; flex-wrap: wrap;\">\n",
    "    <div style=\"flex-basis: 40%; padding: 5px;\">\n",
    "      <img src=\"images/notebook/tau_0.1.png\" alt=\"Image 1\" style=\"width: 100%;\">\n",
    "    </div>\n",
    "    <div style=\"flex-basis: 40%; padding: 5px;\">\n",
    "      <img src=\"images/notebook/tau_1.0.png\" alt=\"Image 2\" style=\"width: 100%;\">\n",
    "    </div>\n",
    "    </div>\n",
    "    <div style=\"display: flex; flex-wrap: wrap;\">\n",
    "    <div style=\"flex-basis: 40%; padding: 5px;\">\n",
    "      <img src=\"images/notebook/tau_10.0.png\" alt=\"Image 1\" style=\"width: 100%;\">\n",
    "    </div>\n",
    "    <div style=\"flex-basis: 40%; padding: 5px;\">\n",
    "      <img src=\"images/notebook/tau_100.0.png\" alt=\"Image 2\" style=\"width: 100%;\">\n",
    "    </div>\n",
    "    </div>\n",
    "    <div style=\"display: flex; flex-wrap: wrap;\">\n",
    "    <div style=\"flex-basis: 40%; padding: 5px;\">\n",
    "      <img src=\"images/notebook/tau_1000.0.png\" alt=\"Image 1\" style=\"width: 100%;\">\n",
    "    </div>\n",
    "    <div style=\"flex-basis: 40%; padding: 5px;\">\n",
    "      <img src=\"images/notebook/tau_10000.0.png\" alt=\"Image 2\" style=\"width: 100%;\">\n",
    "    </div>\n",
    "    </div>\n",
    "    <div style=\"display: flex; flex-wrap: wrap;\">\n",
    "    <div style=\"flex-basis: 40%; padding: 5px;\">\n",
    "      <img src=\"images/notebook/tau_10000.0.png\" alt=\"Image 1\" style=\"width: 100%;\">\n",
    "    </div>\n",
    "    <div style=\"flex-basis: 40%; padding: 5px;\">\n",
    "      <img src=\"images/notebook/tau_1000000.0.png\" alt=\"Image 2\" style=\"width: 100%;\">\n",
    "    </div>\n",
    "    </div>\n",
    "  </div>\n",
    "</div>"
   ]
  },
  {
   "attachments": {},
   "cell_type": "markdown",
   "metadata": {},
   "source": [
    "##### Homework 2 & 3 TV Regularization\n",
    "\n",
    "* Stacked operators.\n",
    "* Implemented relevant proximals.\n",
    "* Below is the default smoothing function provided in the assignment template."
   ]
  },
  {
   "attachments": {},
   "cell_type": "markdown",
   "metadata": {},
   "source": [
    "<div>\n",
    "  <div style=\"display: flex; flex-wrap: wrap;\">\n",
    "    <div style=\"flex-basis: 70%; padding: 5px;\">\n",
    "      <img src=\"images/notebook/smooth.png\" alt=\"Image 1\" style=\"width: 100%;\">\n",
    "    </div>\n",
    "</div>"
   ]
  }
 ],
 "metadata": {
  "language_info": {
   "name": "python"
  },
  "orig_nbformat": 4
 },
 "nbformat": 4,
 "nbformat_minor": 2
}
