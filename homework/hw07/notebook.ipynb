{
 "cells": [
  {
   "attachments": {},
   "cell_type": "markdown",
   "metadata": {},
   "source": [
    "### Notebook\n",
    "\n",
    "* Module: Applied Optimization Methods for Inverse Problems\n",
    "* Author: kaanguney.keklikci@tum.de\n",
    "* Please find all images produced by all scripts in this notebook."
   ]
  },
  {
   "attachments": {},
   "cell_type": "markdown",
   "metadata": {},
   "source": [
    "##### Homework 1 & 2: Proximal Operators & ADMM\n",
    "\n",
    "* LASSO\n",
    "\n",
    "    * `λ` = 0.95τ / norm.\n",
    "    * Norm is computed via power iterations. \n",
    "    * Visualizations are generated for a set of `τ` over `np.logspace(-3, 6, 10)`."
   ]
  },
  {
   "attachments": {},
   "cell_type": "markdown",
   "metadata": {},
   "source": [
    "| ![τ = 0.1](images/notebook/tau_0.1.png) | ![τ = 1.0](images/notebook/tau_1.0.png) |\n",
    "|:---:|:---:|\n",
    "| τ = 0.1 | τ = 1 |\n",
    "\n",
    "| ![τ = 10.0](images/notebook/tau_10.0.png) | ![τ = 100.0](images/notebook/tau_100.0.png) |\n",
    "|:---:|:---:|\n",
    "| τ = 10 | τ = 100 |\n",
    "\n",
    "| ![τ = 1000.0](images/notebook/tau_1000.0.png) | ![τ = 10000.0](images/notebook/tau_10000.0.png) |\n",
    "|:---:|:---:|\n",
    "| τ = 1000 | τ = 10000 |\n",
    "\n",
    "| ![τ = 100000.0](images/notebook/tau_100000.0.png) | ![τ = 1000000.0](images/notebook/tau_1000000.0.png) |\n",
    "|:---:|:---:|\n",
    "| τ = 100000 | τ = 1000000 |\n"
   ]
  },
  {
   "attachments": {},
   "cell_type": "markdown",
   "metadata": {},
   "source": [
    "##### Homework 2 & 3 TV Regularization\n",
    "\n",
    "* Stacked operators.\n",
    "* Implemented relevant proximals.\n",
    "* Below is the default smoothing function provided in the assignment template."
   ]
  },
  {
   "attachments": {},
   "cell_type": "markdown",
   "metadata": {},
   "source": [
    "| ![Smoothing Function](images/notebook/smooth.png) |\n",
    "|:---:|\n",
    "| Smoothing Function | "
   ]
  }
 ],
 "metadata": {
  "language_info": {
   "name": "python"
  },
  "orig_nbformat": 4
 },
 "nbformat": 4,
 "nbformat_minor": 2
}
